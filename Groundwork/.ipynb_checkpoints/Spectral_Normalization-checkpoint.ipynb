{
 "cells": [
  {
   "cell_type": "markdown",
   "metadata": {},
   "source": [
    "One of the challenges in the study of generative adversarial networks is the instability of its training. Spectral Normalization is a weight normalization technique to stabilize the training of the discriminator. It is computationally light and easy to incorporate into existing implementations. Spectrally normalized GANs (SN-GANs) are capable of generating images of better or equal quality relative to the previous training stabilization techniques on CIFAR10, STL-10, and ILSVRC2012 datasets. Spectral Normalization  has the following properties:\n",
    "<br><br>(a) Lipschitz constant is the only hyper-parameter to be tuned, and the algorithm does not require intensive tuning of the only hyper-parameter for satisfactory performance.\n",
    "<br>(b) Implementation is simple and the additional computational cost is small.\n",
    "<br><br> Spectral Normalization leads to higher Inception Score and FID score."
   ]
  },
  {
   "cell_type": "code",
   "execution_count": 1,
   "metadata": {},
   "outputs": [],
   "source": [
    "import torch\n",
    "import torch.nn as nn\n",
    "import torch.nn.functional as F"
   ]
  },
  {
   "cell_type": "code",
   "execution_count": 2,
   "metadata": {},
   "outputs": [],
   "source": [
    "def l2normalize(v):\n",
    "    return v / v.norm()"
   ]
  },
  {
   "cell_type": "code",
   "execution_count": 3,
   "metadata": {},
   "outputs": [],
   "source": [
    "# Ref: https://github.com/christiancosgrove/pytorch-spectral-normalization-gan/blob/master/spectral_normalization.py\n",
    "\n",
    "class SpectralNorm(nn.Module):\n",
    "\n",
    "    def __init__(self, module):\n",
    "        super().__init__()\n",
    "        self.module = module\n",
    "        self.name = \"weight\"\n",
    "        if not self.made_params():\n",
    "            self.make_params()\n",
    "            \n",
    "\n",
    "    def _update_u_v(self):\n",
    "        u = getattr(self.module, \"u\")\n",
    "        v = getattr(self.module, \"v\")\n",
    "        w = getattr(self.module, self.name)\n",
    "\n",
    "        height = w.data.shape[0] # Num of output channels i.e. C\n",
    "        \n",
    "        v.data = l2normalize(torch.mv(torch.t(w.view(height,-1).data), u.data)) # C x (H*W) -> (H*W) x C -> [(H*W) x C] x [C x 1] -> gives v matrix of order (H*W) x 1\n",
    "        u.data = l2normalize(torch.mv(w.view(height,-1).data, v.data)) # C x (H*W) -> [C x (H*W)] x [(H*W) x 1] -> gives u matrix of order C x 1\n",
    "\n",
    "        sigma = u.dot(w.view(height, -1).mv(v)) # Spectral Norm    u^t x w x v\n",
    "        setattr(self.module, self.name, nn.Parameter(w / sigma))\n",
    "        \n",
    "\n",
    "    def made_params(self):\n",
    "        try:\n",
    "            u = getattr(self.module, \"u\")\n",
    "            v = getattr(self.module, \"v\")\n",
    "            return True\n",
    "        except AttributeError:\n",
    "            return False\n",
    "\n",
    "\n",
    "    def make_params(self):\n",
    "        w = getattr(self.module, self.name) # weight\n",
    "\n",
    "        height = w.data.shape[0] # Num of output channels i.e. C\n",
    "        width = w.view(height, -1).data.shape[1] # H x W\n",
    "\n",
    "        u = nn.Parameter(w.data.new(height).normal_(0, 1), requires_grad=False) # C x 1    w.data.new() creates a new tensor of same dtype as w\n",
    "        v = nn.Parameter(w.data.new(width).normal_(0, 1), requires_grad=False) # (H*W) x 1\n",
    "        u.data = l2normalize(u.data)\n",
    "        v.data = l2normalize(v.data)\n",
    "\n",
    "        self.module.register_parameter(\"u\", u)\n",
    "        self.module.register_parameter(\"v\", v)\n",
    "    \n",
    "\n",
    "    def forward(self, *args):\n",
    "        self._update_u_v()\n",
    "        return self.module.forward(*args)"
   ]
  },
  {
   "cell_type": "code",
   "execution_count": 4,
   "metadata": {},
   "outputs": [],
   "source": [
    "conv1 = SpectralNorm(nn.Conv2d(5, 3, kernel_size=3, padding=1))"
   ]
  },
  {
   "cell_type": "code",
   "execution_count": 5,
   "metadata": {},
   "outputs": [],
   "source": [
    "conv2 = nn.Conv2d(5,3,3,1)"
   ]
  },
  {
   "cell_type": "code",
   "execution_count": 6,
   "metadata": {},
   "outputs": [],
   "source": [
    "inp = torch.randn(10,5,64,64)"
   ]
  },
  {
   "cell_type": "code",
   "execution_count": 7,
   "metadata": {},
   "outputs": [
    {
     "data": {
      "text/plain": [
       "torch.Size([10, 3, 62, 62])"
      ]
     },
     "execution_count": 7,
     "metadata": {},
     "output_type": "execute_result"
    }
   ],
   "source": [
    "conv2(inp).shape"
   ]
  },
  {
   "cell_type": "code",
   "execution_count": 8,
   "metadata": {},
   "outputs": [],
   "source": [
    "out = conv1(inp)"
   ]
  },
  {
   "cell_type": "code",
   "execution_count": 9,
   "metadata": {},
   "outputs": [
    {
     "data": {
      "text/plain": [
       "torch.Size([10, 3, 64, 64])"
      ]
     },
     "execution_count": 9,
     "metadata": {},
     "output_type": "execute_result"
    }
   ],
   "source": [
    "out.shape"
   ]
  },
  {
   "cell_type": "code",
   "execution_count": 10,
   "metadata": {},
   "outputs": [
    {
     "name": "stdout",
     "output_type": "stream",
     "text": [
      "model\n",
      "module.weight         torch.Size([3, 5, 3, 3]) 135\n",
      "\n",
      "module.bias           torch.Size([3])     3\n",
      "\n",
      "module.u              torch.Size([3])     3\n",
      "\n",
      "module.v              torch.Size([45])    45\n",
      "\n"
     ]
    }
   ],
   "source": [
    "for type_str, model in [('model', conv1)]:\n",
    "    print(type_str)\n",
    "    for name_str, param in model.named_parameters():\n",
    "        print(\"{:21} {:19} {}\".format(name_str, str(param.shape), param.numel()))\n",
    "        print()"
   ]
  },
  {
   "cell_type": "code",
   "execution_count": 11,
   "metadata": {},
   "outputs": [
    {
     "name": "stdout",
     "output_type": "stream",
     "text": [
      "model\n",
      "weight                torch.Size([3, 5, 3, 3]) 135\n",
      "\n",
      "bias                  torch.Size([3])     3\n",
      "\n"
     ]
    }
   ],
   "source": [
    "for type_str, model in [('model', conv2)]:\n",
    "    print(type_str)\n",
    "    for name_str, param in model.named_parameters():\n",
    "        print(\"{:21} {:19} {}\".format(name_str, str(param.shape), param.numel()))\n",
    "        print()"
   ]
  }
 ],
 "metadata": {
  "kernelspec": {
   "display_name": "Python 3",
   "language": "python",
   "name": "python3"
  },
  "language_info": {
   "codemirror_mode": {
    "name": "ipython",
    "version": 3
   },
   "file_extension": ".py",
   "mimetype": "text/x-python",
   "name": "python",
   "nbconvert_exporter": "python",
   "pygments_lexer": "ipython3",
   "version": "3.7.3"
  }
 },
 "nbformat": 4,
 "nbformat_minor": 4
}
